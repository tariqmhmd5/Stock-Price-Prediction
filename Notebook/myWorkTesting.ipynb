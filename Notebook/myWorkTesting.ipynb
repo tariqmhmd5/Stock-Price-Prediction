{
 "cells": [
  {
   "cell_type": "code",
   "execution_count": 3,
   "id": "8e9dcfe4",
   "metadata": {},
   "outputs": [],
   "source": [
    "import numpy as np\n",
    "from pandas import read_csv\n",
    "from tensorflow.keras.models import Sequential\n",
    "from sklearn.preprocessing import MinMaxScaler\n",
    "from tensorflow.keras.models import load_model\n",
    "from tensorflow.keras.layers import Dense,Dropout,LSTM"
   ]
  },
  {
   "cell_type": "code",
   "execution_count": 4,
   "id": "38677b9a",
   "metadata": {},
   "outputs": [],
   "source": [
    "df = read_csv('TSLA.csv')"
   ]
  },
  {
   "cell_type": "code",
   "execution_count": 5,
   "id": "af1938b3",
   "metadata": {},
   "outputs": [],
   "source": [
    "df = df['close']"
   ]
  },
  {
   "cell_type": "code",
   "execution_count": 4,
   "id": "e197ee02",
   "metadata": {},
   "outputs": [],
   "source": [
    "from sklearn.preprocessing import MinMaxScaler\n",
    "sc = MinMaxScaler()\n",
    "Train = sc.fit_transform(df.values.reshape(-1,1))"
   ]
  },
  {
   "cell_type": "code",
   "execution_count": 5,
   "id": "d1dc3274",
   "metadata": {},
   "outputs": [
    {
     "name": "stdout",
     "output_type": "stream",
     "text": [
      "(231, 20)\n",
      "(231,)\n"
     ]
    }
   ],
   "source": [
    "X_Train = []\n",
    "Y_Train = []\n",
    "b = 20\n",
    "for i in range(b, Train.shape[0]):\n",
    "    \n",
    "    X_Train.append(Train[i-b:i,0])\n",
    "    \n",
    "    Y_Train.append(Train[i,0])\n",
    "\n",
    "# Convert into Numpy Array\n",
    "X_Train = np.array(X_Train)\n",
    "Y_Train = np.array(Y_Train)\n",
    "\n",
    "print(X_Train.shape)\n",
    "print(Y_Train.shape)"
   ]
  },
  {
   "cell_type": "code",
   "execution_count": 6,
   "id": "5162f329",
   "metadata": {},
   "outputs": [
    {
     "data": {
      "text/plain": [
       "(231, 20, 1)"
      ]
     },
     "execution_count": 6,
     "metadata": {},
     "output_type": "execute_result"
    }
   ],
   "source": [
    "X_Train = np.reshape(X_Train, newshape=(X_Train.shape[0], X_Train.shape[1], 1))\n",
    "X_Train.shape"
   ]
  },
  {
   "cell_type": "code",
   "execution_count": 7,
   "id": "4301f721",
   "metadata": {},
   "outputs": [
    {
     "name": "stdout",
     "output_type": "stream",
     "text": [
      "(221, 20, 1) (221,) (10, 20, 1) (10,)\n"
     ]
    }
   ],
   "source": [
    "X_test=X_Train[-10:,:,:]\n",
    "y_test=Y_Train[-10:]\n",
    "X_train=X_Train[0:-10,:,:]\n",
    "Y_train=Y_Train[0:-10]\n",
    "print(X_train.shape,Y_train.shape,X_test.shape,y_test.shape)"
   ]
  },
  {
   "cell_type": "code",
   "execution_count": 8,
   "id": "600c2717",
   "metadata": {},
   "outputs": [],
   "source": []
  },
  {
   "cell_type": "code",
   "execution_count": 9,
   "id": "3c9e58a7",
   "metadata": {},
   "outputs": [
    {
     "name": "stdout",
     "output_type": "stream",
     "text": [
      "Epoch 1/50\n",
      "231/231 - 4s - loss: 0.0111\n",
      "Epoch 2/50\n",
      "231/231 - 2s - loss: 0.0036\n",
      "Epoch 3/50\n",
      "231/231 - 2s - loss: 0.0030\n",
      "Epoch 4/50\n",
      "231/231 - 2s - loss: 0.0027\n",
      "Epoch 5/50\n",
      "231/231 - 2s - loss: 0.0030\n",
      "Epoch 6/50\n",
      "231/231 - 2s - loss: 0.0021\n",
      "Epoch 7/50\n",
      "231/231 - 2s - loss: 0.0020\n",
      "Epoch 8/50\n",
      "231/231 - 2s - loss: 0.0021\n",
      "Epoch 9/50\n",
      "231/231 - 2s - loss: 0.0020\n",
      "Epoch 10/50\n",
      "231/231 - 2s - loss: 0.0018\n",
      "Epoch 11/50\n",
      "231/231 - 2s - loss: 0.0021\n",
      "Epoch 12/50\n",
      "231/231 - 2s - loss: 0.0015\n",
      "Epoch 13/50\n",
      "231/231 - 2s - loss: 0.0016\n",
      "Epoch 14/50\n",
      "231/231 - 2s - loss: 0.0016\n",
      "Epoch 15/50\n",
      "231/231 - 2s - loss: 0.0015\n",
      "Epoch 16/50\n",
      "231/231 - 2s - loss: 0.0016\n",
      "Epoch 17/50\n",
      "231/231 - 2s - loss: 0.0014\n",
      "Epoch 18/50\n",
      "231/231 - 2s - loss: 0.0013\n",
      "Epoch 19/50\n",
      "231/231 - 2s - loss: 0.0012\n",
      "Epoch 20/50\n",
      "231/231 - 2s - loss: 0.0014\n",
      "Epoch 21/50\n",
      "231/231 - 2s - loss: 0.0015\n",
      "Epoch 22/50\n",
      "231/231 - 2s - loss: 0.0014\n",
      "Epoch 23/50\n",
      "231/231 - 2s - loss: 0.0014\n",
      "Epoch 24/50\n",
      "231/231 - 2s - loss: 0.0013\n",
      "Epoch 25/50\n",
      "231/231 - 2s - loss: 0.0012\n",
      "Epoch 26/50\n",
      "231/231 - 2s - loss: 0.0013\n",
      "Epoch 27/50\n",
      "231/231 - 2s - loss: 0.0013\n",
      "Epoch 28/50\n",
      "231/231 - 2s - loss: 0.0013\n",
      "Epoch 29/50\n",
      "231/231 - 2s - loss: 0.0012\n",
      "Epoch 30/50\n",
      "231/231 - 2s - loss: 0.0013\n",
      "Epoch 31/50\n",
      "231/231 - 2s - loss: 0.0011\n",
      "Epoch 32/50\n",
      "231/231 - 2s - loss: 0.0012\n",
      "Epoch 33/50\n",
      "231/231 - 2s - loss: 0.0012\n",
      "Epoch 34/50\n",
      "231/231 - 2s - loss: 0.0014\n",
      "Epoch 35/50\n",
      "231/231 - 2s - loss: 0.0013\n",
      "Epoch 36/50\n",
      "231/231 - 2s - loss: 0.0011\n",
      "Epoch 37/50\n",
      "231/231 - 2s - loss: 0.0014\n",
      "Epoch 38/50\n",
      "231/231 - 2s - loss: 9.8096e-04\n",
      "Epoch 39/50\n",
      "231/231 - 2s - loss: 0.0013\n",
      "Epoch 40/50\n",
      "231/231 - 2s - loss: 0.0011\n",
      "Epoch 41/50\n",
      "231/231 - 2s - loss: 0.0012\n",
      "Epoch 42/50\n",
      "231/231 - 2s - loss: 0.0011\n",
      "Epoch 43/50\n",
      "231/231 - 2s - loss: 0.0013\n",
      "Epoch 44/50\n",
      "231/231 - 2s - loss: 0.0012\n",
      "Epoch 45/50\n",
      "231/231 - 2s - loss: 0.0012\n",
      "Epoch 46/50\n",
      "231/231 - 2s - loss: 0.0012\n",
      "Epoch 47/50\n",
      "231/231 - 2s - loss: 0.0011\n",
      "Epoch 48/50\n",
      "231/231 - 2s - loss: 0.0013\n",
      "Epoch 49/50\n",
      "231/231 - 2s - loss: 0.0012\n",
      "Epoch 50/50\n",
      "231/231 - 2s - loss: 0.0012\n"
     ]
    },
    {
     "data": {
      "text/plain": [
       "<tensorflow.python.keras.callbacks.History at 0x242ac319808>"
      ]
     },
     "execution_count": 9,
     "metadata": {},
     "output_type": "execute_result"
    }
   ],
   "source": [
    "regressor = Sequential()\n",
    "regressor.add(LSTM(units = 100, input_shape = (X_Train.shape[1], 1)))\n",
    "regressor.add(Dense(units = 1))\n",
    "regressor.compile(optimizer = 'adam', loss = 'mean_squared_error')\n",
    "regressor.fit(X_Train, Y_Train, epochs=50, batch_size=1, verbose=2)"
   ]
  },
  {
   "cell_type": "code",
   "execution_count": 10,
   "id": "d00de53b",
   "metadata": {},
   "outputs": [
    {
     "data": {
      "image/png": "[encoded data removed]",
      "text/plain": [
       "<Figure size 432x288 with 1 Axes>"
      ]
     },
     "metadata": {
      "needs_background": "light"
     },
     "output_type": "display_data"
    }
   ],
   "source": [
    "plt.plot(regressor.history.history['loss'])\n",
    "plt.ylabel('Loss')\n",
    "plt.xlabel('epoch')\n",
    "plt.legend(['train', 'val'], loc='upper left')\n",
    "plt.grid()\n",
    "plt.show()"
   ]
  },
  {
   "cell_type": "code",
   "execution_count": 11,
   "id": "5513194d",
   "metadata": {},
   "outputs": [],
   "source": [
    "y_pred=sc.inverse_transform(regressor.predict(X_test))\n",
    "y_test=sc.inverse_transform(y_test.reshape(-1,1))"
   ]
  },
  {
   "cell_type": "code",
   "execution_count": 12,
   "id": "0cb9d7bc",
   "metadata": {},
   "outputs": [
    {
     "data": {
      "image/png": "[encoded data removed]",
      "text/plain": [
       "<Figure size 432x288 with 1 Axes>"
      ]
     },
     "metadata": {
      "needs_background": "light"
     },
     "output_type": "display_data"
    }
   ],
   "source": [
    "plt.figure()\n",
    "plt.plot(y_test,label=\"Testing Data\",c=\"b\")\n",
    "plt.plot(y_pred,label=\"Predicted Data\",c=\"r\")\n",
    "plt.ylabel(\"Confirmed Cases\")\n",
    "plt.xlabel(\"Last 62 Days (After Lockdown)\")\n",
    "plt.legend()\n",
    "plt.grid()\n",
    "plt.show()"
   ]
  },
  {
   "cell_type": "code",
   "execution_count": 14,
   "id": "932aaf7b",
   "metadata": {},
   "outputs": [],
   "source": [
    "from tensorflow.keras.models import load_model\n",
    "\n",
    "regressor.save('my_model.h5')  # creates a HDF5 file 'my_model.h5'\n",
    "del regressor  # deletes the existing model\n",
    "\n",
    "# returns a compiled model\n",
    "# identical to the previous one\n",
    "regressor = load_model('my_model.h5')"
   ]
  },
  {
   "cell_type": "code",
   "execution_count": null,
   "id": "34be86a1",
   "metadata": {},
   "outputs": [],
   "source": []
  }
 ],
 "metadata": {
  "kernelspec": {
   "display_name": "Python 3",
   "language": "python",
   "name": "python3"
  },
  "language_info": {
   "codemirror_mode": {
    "name": "ipython",
    "version": 3
   },
   "file_extension": ".py",
   "mimetype": "text/x-python",
   "name": "python",
   "nbconvert_exporter": "python",
   "pygments_lexer": "ipython3",
   "version": "3.7.9"
  }
 },
 "nbformat": 4,
 "nbformat_minor": 5
}
