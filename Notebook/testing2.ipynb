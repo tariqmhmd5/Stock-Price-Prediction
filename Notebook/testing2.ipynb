{
 "cells": [
  {
   "cell_type": "code",
   "execution_count": 1,
   "id": "4a786c2c",
   "metadata": {},
   "outputs": [],
   "source": [
    "import numpy\n",
    "import matplotlib.pyplot as plt\n",
    "from pandas import read_csv\n",
    "import math\n",
    "from tensorflow.keras.models import Sequential\n",
    "from tensorflow.keras.layers import Dense,Dropout,LSTM\n",
    "from sklearn.preprocessing import MinMaxScaler\n",
    "from sklearn.metrics import mean_squared_error"
   ]
  },
  {
   "cell_type": "code",
   "execution_count": 2,
   "id": "a144f9c1",
   "metadata": {},
   "outputs": [],
   "source": [
    "df = read_csv('TSLA.csv')"
   ]
  },
  {
   "cell_type": "code",
   "execution_count": 3,
   "id": "7c41e64e",
   "metadata": {},
   "outputs": [],
   "source": [
    "df = df.iloc[:,[1,4]]"
   ]
  },
  {
   "cell_type": "code",
   "execution_count": 4,
   "id": "54708cd5",
   "metadata": {},
   "outputs": [
    {
     "data": {
      "text/html": [
       "<div>\n",
       "<style scoped>\n",
       "    .dataframe tbody tr th:only-of-type {\n",
       "        vertical-align: middle;\n",
       "    }\n",
       "\n",
       "    .dataframe tbody tr th {\n",
       "        vertical-align: top;\n",
       "    }\n",
       "\n",
       "    .dataframe thead th {\n",
       "        text-align: right;\n",
       "    }\n",
       "</style>\n",
       "<table border=\"1\" class=\"dataframe\">\n",
       "  <thead>\n",
       "    <tr style=\"text-align: right;\">\n",
       "      <th></th>\n",
       "      <th>open</th>\n",
       "      <th>close</th>\n",
       "    </tr>\n",
       "  </thead>\n",
       "  <tbody>\n",
       "    <tr>\n",
       "      <th>0</th>\n",
       "      <td>118.031998</td>\n",
       "      <td>130.190002</td>\n",
       "    </tr>\n",
       "    <tr>\n",
       "      <th>1</th>\n",
       "      <td>139.794006</td>\n",
       "      <td>141.977997</td>\n",
       "    </tr>\n",
       "    <tr>\n",
       "      <th>2</th>\n",
       "      <td>148.399994</td>\n",
       "      <td>145.966003</td>\n",
       "    </tr>\n",
       "    <tr>\n",
       "      <th>3</th>\n",
       "      <td>143.388000</td>\n",
       "      <td>149.042007</td>\n",
       "    </tr>\n",
       "    <tr>\n",
       "      <th>4</th>\n",
       "      <td>154.455994</td>\n",
       "      <td>150.778000</td>\n",
       "    </tr>\n",
       "    <tr>\n",
       "      <th>...</th>\n",
       "      <td>...</td>\n",
       "      <td>...</td>\n",
       "    </tr>\n",
       "    <tr>\n",
       "      <th>246</th>\n",
       "      <td>707.710022</td>\n",
       "      <td>691.049988</td>\n",
       "    </tr>\n",
       "    <tr>\n",
       "      <th>247</th>\n",
       "      <td>690.299988</td>\n",
       "      <td>691.619995</td>\n",
       "    </tr>\n",
       "    <tr>\n",
       "      <th>248</th>\n",
       "      <td>687.000000</td>\n",
       "      <td>670.969971</td>\n",
       "    </tr>\n",
       "    <tr>\n",
       "      <th>249</th>\n",
       "      <td>677.380005</td>\n",
       "      <td>683.799988</td>\n",
       "    </tr>\n",
       "    <tr>\n",
       "      <th>250</th>\n",
       "      <td>677.770020</td>\n",
       "      <td>677.020020</td>\n",
       "    </tr>\n",
       "  </tbody>\n",
       "</table>\n",
       "<p>251 rows × 2 columns</p>\n",
       "</div>"
      ],
      "text/plain": [
       "           open       close\n",
       "0    118.031998  130.190002\n",
       "1    139.794006  141.977997\n",
       "2    148.399994  145.966003\n",
       "3    143.388000  149.042007\n",
       "4    154.455994  150.778000\n",
       "..          ...         ...\n",
       "246  707.710022  691.049988\n",
       "247  690.299988  691.619995\n",
       "248  687.000000  670.969971\n",
       "249  677.380005  683.799988\n",
       "250  677.770020  677.020020\n",
       "\n",
       "[251 rows x 2 columns]"
      ]
     },
     "execution_count": 4,
     "metadata": {},
     "output_type": "execute_result"
    }
   ],
   "source": [
    "df"
   ]
  },
  {
   "cell_type": "code",
   "execution_count": 5,
   "id": "e493e51c",
   "metadata": {},
   "outputs": [],
   "source": [
    "def create_dataset(dataset, look_back=1):\n",
    "\tdataX, dataY = [], []\n",
    "\tfor i in range(len(dataset)-look_back-1):\n",
    "\t\ta = dataset[i:(i+look_back)]\n",
    "\t\tdataX.append(a)\n",
    "\t\tdataY.append(dataset[i + look_back])\n",
    "\treturn numpy.array(dataX), numpy.array(dataY)"
   ]
  },
  {
   "cell_type": "code",
   "execution_count": 6,
   "id": "1f2d79c7",
   "metadata": {},
   "outputs": [],
   "source": [
    "d = create_dataset(df['close'].values)"
   ]
  },
  {
   "cell_type": "code",
   "execution_count": 7,
   "id": "899344c8",
   "metadata": {},
   "outputs": [],
   "source": [
    "a,b = d"
   ]
  },
  {
   "cell_type": "code",
   "execution_count": 8,
   "id": "f455f428",
   "metadata": {},
   "outputs": [
    {
     "data": {
      "text/plain": [
       "array([[130.190002],\n",
       "       [141.977997],\n",
       "       [145.966003],\n",
       "       [149.042007],\n",
       "       [150.778   ]])"
      ]
     },
     "execution_count": 8,
     "metadata": {},
     "output_type": "execute_result"
    }
   ],
   "source": [
    "a[:5]"
   ]
  },
  {
   "cell_type": "code",
   "execution_count": 9,
   "id": "9938d343",
   "metadata": {},
   "outputs": [
    {
     "data": {
      "text/plain": [
       "array([141.977997, 145.966003, 149.042007, 150.778   , 149.272003])"
      ]
     },
     "execution_count": 9,
     "metadata": {},
     "output_type": "execute_result"
    }
   ],
   "source": [
    "b[:5]"
   ]
  },
  {
   "cell_type": "code",
   "execution_count": 10,
   "id": "5d6d1ce4",
   "metadata": {},
   "outputs": [
    {
     "data": {
      "text/plain": [
       "[<matplotlib.lines.Line2D at 0x2b583009a48>]"
      ]
     },
     "execution_count": 10,
     "metadata": {},
     "output_type": "execute_result"
    },
    {
     "data": {
      "image/png": "[encoded data removed]",
      "text/plain": [
       "<Figure size 432x288 with 1 Axes>"
      ]
     },
     "metadata": {
      "needs_background": "light"
     },
     "output_type": "display_data"
    }
   ],
   "source": [
    "plt.plot(df['close'])"
   ]
  },
  {
   "cell_type": "code",
   "execution_count": 11,
   "id": "72d24511",
   "metadata": {},
   "outputs": [],
   "source": [
    "numpy.random.seed(7)"
   ]
  },
  {
   "cell_type": "code",
   "execution_count": 12,
   "id": "86a9b07c",
   "metadata": {},
   "outputs": [],
   "source": [
    "dataset = df['close'].values\n",
    "dataset = dataset.astype('float32')\n",
    "dataset = dataset.reshape(-1,1)"
   ]
  },
  {
   "cell_type": "code",
   "execution_count": 13,
   "id": "65ae86c9",
   "metadata": {},
   "outputs": [],
   "source": [
    "scaler = MinMaxScaler(feature_range=(0, 1))\n",
    "dataset = scaler.fit_transform(dataset)"
   ]
  },
  {
   "cell_type": "code",
   "execution_count": 14,
   "id": "c5ed4fa9",
   "metadata": {},
   "outputs": [],
   "source": [
    "train_size = int(len(dataset) * 0.67)\n",
    "test_size = len(dataset) - train_size\n",
    "train, test = dataset[0:train_size,:], dataset[train_size:len(dataset),:]"
   ]
  },
  {
   "cell_type": "code",
   "execution_count": 54,
   "id": "19120f6b",
   "metadata": {},
   "outputs": [],
   "source": [
    "look_back = 1\n",
    "trainX, trainY = create_dataset(train, look_back)\n",
    "testX, testY = create_dataset(test, look_back)"
   ]
  },
  {
   "cell_type": "code",
   "execution_count": 55,
   "id": "d50a5cbe",
   "metadata": {},
   "outputs": [],
   "source": [
    "trainX = numpy.reshape(trainX, (trainX.shape[0], 1, trainX.shape[1]))\n",
    "testX = numpy.reshape(testX, (testX.shape[0], 1, testX.shape[1]))"
   ]
  },
  {
   "cell_type": "code",
   "execution_count": 56,
   "id": "66765270",
   "metadata": {},
   "outputs": [
    {
     "name": "stdout",
     "output_type": "stream",
     "text": [
      "Epoch 1/100\n",
      "166/166 - 2s - loss: 0.0653\n",
      "Epoch 2/100\n",
      "166/166 - 0s - loss: 0.0283\n",
      "Epoch 3/100\n",
      "166/166 - 0s - loss: 0.0208\n",
      "Epoch 4/100\n",
      "166/166 - 0s - loss: 0.0168\n",
      "Epoch 5/100\n",
      "166/166 - 0s - loss: 0.0125\n",
      "Epoch 6/100\n",
      "166/166 - 0s - loss: 0.0082\n",
      "Epoch 7/100\n",
      "166/166 - 0s - loss: 0.0045\n",
      "Epoch 8/100\n",
      "166/166 - 0s - loss: 0.0021\n",
      "Epoch 9/100\n",
      "166/166 - 0s - loss: 0.0010\n",
      "Epoch 10/100\n",
      "166/166 - 0s - loss: 6.5804e-04\n",
      "Epoch 11/100\n",
      "166/166 - 0s - loss: 5.7425e-04\n",
      "Epoch 12/100\n",
      "166/166 - 0s - loss: 5.5744e-04\n",
      "Epoch 13/100\n",
      "166/166 - 0s - loss: 5.5760e-04\n",
      "Epoch 14/100\n",
      "166/166 - 0s - loss: 5.5178e-04\n",
      "Epoch 15/100\n",
      "166/166 - 0s - loss: 5.7345e-04\n",
      "Epoch 16/100\n",
      "166/166 - 0s - loss: 5.5496e-04\n",
      "Epoch 17/100\n",
      "166/166 - 0s - loss: 5.4890e-04\n",
      "Epoch 18/100\n",
      "166/166 - 0s - loss: 5.6331e-04\n",
      "Epoch 19/100\n",
      "166/166 - 0s - loss: 5.6484e-04\n",
      "Epoch 20/100\n",
      "166/166 - 0s - loss: 5.5264e-04\n",
      "Epoch 21/100\n",
      "166/166 - 0s - loss: 5.6070e-04\n",
      "Epoch 22/100\n",
      "166/166 - 0s - loss: 5.5521e-04\n",
      "Epoch 23/100\n",
      "166/166 - 0s - loss: 5.3915e-04\n",
      "Epoch 24/100\n",
      "166/166 - 0s - loss: 5.6854e-04\n",
      "Epoch 25/100\n",
      "166/166 - 0s - loss: 5.7965e-04\n",
      "Epoch 26/100\n",
      "166/166 - 0s - loss: 5.5951e-04\n",
      "Epoch 27/100\n",
      "166/166 - 0s - loss: 5.8676e-04\n",
      "Epoch 28/100\n",
      "166/166 - 0s - loss: 5.7989e-04\n",
      "Epoch 29/100\n",
      "166/166 - 0s - loss: 5.7740e-04\n",
      "Epoch 30/100\n",
      "166/166 - 0s - loss: 5.6934e-04\n",
      "Epoch 31/100\n",
      "166/166 - 0s - loss: 5.5714e-04\n",
      "Epoch 32/100\n",
      "166/166 - 0s - loss: 5.8079e-04\n",
      "Epoch 33/100\n",
      "166/166 - 0s - loss: 5.8586e-04\n",
      "Epoch 34/100\n",
      "166/166 - 0s - loss: 6.0232e-04\n",
      "Epoch 35/100\n",
      "166/166 - 0s - loss: 5.5622e-04\n",
      "Epoch 36/100\n",
      "166/166 - 0s - loss: 5.6504e-04\n",
      "Epoch 37/100\n",
      "166/166 - 0s - loss: 5.4835e-04\n",
      "Epoch 38/100\n",
      "166/166 - 0s - loss: 5.3789e-04\n",
      "Epoch 39/100\n",
      "166/166 - 0s - loss: 5.7336e-04\n",
      "Epoch 40/100\n",
      "166/166 - 0s - loss: 5.6116e-04\n",
      "Epoch 41/100\n",
      "166/166 - 0s - loss: 5.9039e-04\n",
      "Epoch 42/100\n",
      "166/166 - 0s - loss: 5.6873e-04\n",
      "Epoch 43/100\n",
      "166/166 - 0s - loss: 5.7795e-04\n",
      "Epoch 44/100\n",
      "166/166 - 0s - loss: 5.5975e-04\n",
      "Epoch 45/100\n",
      "166/166 - 0s - loss: 5.5232e-04\n",
      "Epoch 46/100\n",
      "166/166 - 0s - loss: 5.6036e-04\n",
      "Epoch 47/100\n",
      "166/166 - 0s - loss: 5.6715e-04\n",
      "Epoch 48/100\n",
      "166/166 - 0s - loss: 5.7947e-04\n",
      "Epoch 49/100\n",
      "166/166 - 0s - loss: 5.7112e-04\n",
      "Epoch 50/100\n",
      "166/166 - 0s - loss: 5.6846e-04\n",
      "Epoch 51/100\n",
      "166/166 - 0s - loss: 5.7987e-04\n",
      "Epoch 52/100\n",
      "166/166 - 0s - loss: 5.7917e-04\n",
      "Epoch 53/100\n",
      "166/166 - 0s - loss: 5.7926e-04\n",
      "Epoch 54/100\n",
      "166/166 - 0s - loss: 5.8407e-04\n",
      "Epoch 55/100\n",
      "166/166 - 0s - loss: 5.9063e-04\n",
      "Epoch 56/100\n",
      "166/166 - 0s - loss: 5.7632e-04\n",
      "Epoch 57/100\n",
      "166/166 - 0s - loss: 5.4626e-04\n",
      "Epoch 58/100\n",
      "166/166 - 0s - loss: 5.8760e-04\n",
      "Epoch 59/100\n",
      "166/166 - 0s - loss: 5.8950e-04\n",
      "Epoch 60/100\n",
      "166/166 - 0s - loss: 5.8033e-04\n",
      "Epoch 61/100\n",
      "166/166 - 0s - loss: 5.6366e-04\n",
      "Epoch 62/100\n",
      "166/166 - 0s - loss: 5.7709e-04\n",
      "Epoch 63/100\n",
      "166/166 - 0s - loss: 6.1055e-04\n",
      "Epoch 64/100\n",
      "166/166 - 0s - loss: 5.9079e-04\n",
      "Epoch 65/100\n",
      "166/166 - 0s - loss: 5.5796e-04\n",
      "Epoch 66/100\n",
      "166/166 - 0s - loss: 5.4692e-04\n",
      "Epoch 67/100\n",
      "166/166 - 0s - loss: 5.9718e-04\n",
      "Epoch 68/100\n",
      "166/166 - 0s - loss: 5.4503e-04\n",
      "Epoch 69/100\n",
      "166/166 - 0s - loss: 5.5528e-04\n",
      "Epoch 70/100\n",
      "166/166 - 0s - loss: 5.7802e-04\n",
      "Epoch 71/100\n",
      "166/166 - 0s - loss: 5.4150e-04\n",
      "Epoch 72/100\n",
      "166/166 - 0s - loss: 5.8252e-04\n",
      "Epoch 73/100\n",
      "166/166 - 0s - loss: 5.6067e-04\n",
      "Epoch 74/100\n",
      "166/166 - 0s - loss: 5.5978e-04\n",
      "Epoch 75/100\n",
      "166/166 - 0s - loss: 5.5618e-04\n",
      "Epoch 76/100\n",
      "166/166 - 0s - loss: 5.6892e-04\n",
      "Epoch 77/100\n",
      "166/166 - 0s - loss: 5.4423e-04\n",
      "Epoch 78/100\n",
      "166/166 - 0s - loss: 5.5979e-04\n",
      "Epoch 79/100\n",
      "166/166 - 0s - loss: 5.7989e-04\n",
      "Epoch 80/100\n",
      "166/166 - 0s - loss: 5.7074e-04\n",
      "Epoch 81/100\n",
      "166/166 - 0s - loss: 5.5358e-04\n",
      "Epoch 82/100\n",
      "166/166 - 0s - loss: 5.7485e-04\n",
      "Epoch 83/100\n",
      "166/166 - 0s - loss: 5.7919e-04\n",
      "Epoch 84/100\n",
      "166/166 - 0s - loss: 5.7682e-04\n",
      "Epoch 85/100\n",
      "166/166 - 0s - loss: 5.5834e-04\n",
      "Epoch 86/100\n",
      "166/166 - 0s - loss: 5.6104e-04\n",
      "Epoch 87/100\n",
      "166/166 - 0s - loss: 5.7677e-04\n",
      "Epoch 88/100\n",
      "166/166 - 0s - loss: 5.6582e-04\n",
      "Epoch 89/100\n",
      "166/166 - 0s - loss: 5.6211e-04\n",
      "Epoch 90/100\n",
      "166/166 - 0s - loss: 5.5263e-04\n",
      "Epoch 91/100\n",
      "166/166 - 0s - loss: 5.6970e-04\n",
      "Epoch 92/100\n",
      "166/166 - 0s - loss: 5.5499e-04\n",
      "Epoch 93/100\n",
      "166/166 - 0s - loss: 5.7746e-04\n",
      "Epoch 94/100\n",
      "166/166 - 0s - loss: 5.6921e-04\n",
      "Epoch 95/100\n",
      "166/166 - 0s - loss: 5.4896e-04\n",
      "Epoch 96/100\n",
      "166/166 - 0s - loss: 5.7724e-04\n",
      "Epoch 97/100\n",
      "166/166 - 0s - loss: 5.4290e-04\n",
      "Epoch 98/100\n",
      "166/166 - 0s - loss: 5.7247e-04\n",
      "Epoch 99/100\n",
      "166/166 - 0s - loss: 5.9422e-04\n",
      "Epoch 100/100\n",
      "166/166 - 0s - loss: 5.9019e-04\n"
     ]
    },
    {
     "data": {
      "text/plain": [
       "<tensorflow.python.keras.callbacks.History at 0x2b5a84d6d08>"
      ]
     },
     "execution_count": 56,
     "metadata": {},
     "output_type": "execute_result"
    }
   ],
   "source": [
    "model = Sequential()\n",
    "model.add(LSTM(units = 50, return_sequences = True, input_shape = (1, look_back)))\n",
    "model.add(LSTM(units = 50, return_sequences = True))\n",
    "model.add(LSTM(units = 50, return_sequences = True))\n",
    "model.add(LSTM(units = 50))\n",
    "model.add(Dense(units = 1))\n",
    "model.compile(optimizer = 'adam', loss = 'mean_squared_error')\n",
    "model.fit(trainX, trainY, epochs=50, batch_size=1, verbose=2)"
   ]
  },
  {
   "cell_type": "code",
   "execution_count": 57,
   "id": "3049aaec",
   "metadata": {},
   "outputs": [],
   "source": [
    "# model = Sequential()\n",
    "# model.add(LSTM(4, input_shape=(1, look_back)))\n",
    "# model.add(Dense(1))\n",
    "# model.compile(loss='mean_squared_error', optimizer='adam')\n",
    "# model.fit(trainX, trainY, epochs=100, batch_size=1, verbose=2)"
   ]
  },
  {
   "cell_type": "code",
   "execution_count": 58,
   "id": "fedf878b",
   "metadata": {},
   "outputs": [],
   "source": [
    "trainPredict = model.predict(trainX)\n",
    "testPredict = model.predict(testX)"
   ]
  },
  {
   "cell_type": "code",
   "execution_count": 78,
   "id": "b5db8ecb",
   "metadata": {},
   "outputs": [
    {
     "data": {
      "text/plain": [
       "array([[[0.7182627]]], dtype=float32)"
      ]
     },
     "execution_count": 78,
     "metadata": {},
     "output_type": "execute_result"
    }
   ],
   "source": [
    "testX[-1].reshape(1,1,1)"
   ]
  },
  {
   "cell_type": "code",
   "execution_count": 85,
   "id": "abb860ba",
   "metadata": {},
   "outputs": [],
   "source": [
    "first = model.predict(testX[-1].reshape(1,1,1)).reshape(1,1,1)"
   ]
  },
  {
   "cell_type": "code",
   "execution_count": 95,
   "id": "6bb38695",
   "metadata": {},
   "outputs": [],
   "source": [
    "preds = [first]\n",
    "for i in range(25):\n",
    "    p = model.predict(preds[-1])\n",
    "    preds.append(p.reshape(1,1,1))"
   ]
  },
  {
   "cell_type": "code",
   "execution_count": 96,
   "id": "0a69904e",
   "metadata": {},
   "outputs": [
    {
     "data": {
      "text/plain": [
       "[<matplotlib.lines.Line2D at 0x2b5ad5e0c48>]"
      ]
     },
     "execution_count": 96,
     "metadata": {},
     "output_type": "execute_result"
    },
    {
     "data": {
      "image/png": "[encoded data removed]",
      "text/plain": [
       "<Figure size 432x288 with 1 Axes>"
      ]
     },
     "metadata": {
      "needs_background": "light"
     },
     "output_type": "display_data"
    }
   ],
   "source": [
    "scaler.inverse_transform(numpy.array(preds).flatten().reshape(-1,1)))"
   ]
  },
  {
   "cell_type": "code",
   "execution_count": 59,
   "id": "4b8bea80",
   "metadata": {},
   "outputs": [],
   "source": [
    "trainPredict = scaler.inverse_transform(trainPredict)\n",
    "trainY = scaler.inverse_transform(trainY)\n",
    "testPredict = scaler.inverse_transform(testPredict)\n",
    "testY = scaler.inverse_transform(testY)"
   ]
  },
  {
   "cell_type": "code",
   "execution_count": 60,
   "id": "31ef57bc",
   "metadata": {},
   "outputs": [
    {
     "name": "stdout",
     "output_type": "stream",
     "text": [
      "Train Score: 19.20 RMSE\n",
      "Test Score: 36.52 RMSE\n"
     ]
    }
   ],
   "source": [
    "trainScore = math.sqrt(mean_squared_error(trainY, trainPredict))\n",
    "print('Train Score: %.2f RMSE' % (trainScore))\n",
    "testScore = math.sqrt(mean_squared_error(testY, testPredict))\n",
    "print('Test Score: %.2f RMSE' % (testScore))"
   ]
  },
  {
   "cell_type": "code",
   "execution_count": 61,
   "id": "84c54285",
   "metadata": {},
   "outputs": [],
   "source": [
    "trainPredictPlot = numpy.empty_like(dataset)\n",
    "trainPredictPlot[:, :] = numpy.nan\n",
    "trainPredictPlot[look_back:len(trainPredict)+look_back, :] = trainPredict"
   ]
  },
  {
   "cell_type": "code",
   "execution_count": 62,
   "id": "f00ca6f7",
   "metadata": {},
   "outputs": [],
   "source": [
    "testPredictPlot = numpy.empty_like(dataset)\n",
    "testPredictPlot[:, :] = numpy.nan\n",
    "testPredictPlot[len(trainPredict)+(look_back*2)+1:len(dataset)-1, :] = testPredict"
   ]
  },
  {
   "cell_type": "code",
   "execution_count": 63,
   "id": "3ac9d033",
   "metadata": {},
   "outputs": [
    {
     "data": {
      "image/png": "[encoded data removed]",
      "text/plain": [
       "<Figure size 432x288 with 1 Axes>"
      ]
     },
     "metadata": {
      "needs_background": "light"
     },
     "output_type": "display_data"
    }
   ],
   "source": [
    "plt.plot(scaler.inverse_transform(dataset))\n",
    "plt.plot(trainPredictPlot)\n",
    "plt.plot(testPredictPlot)\n",
    "plt.show()"
   ]
  },
  {
   "cell_type": "code",
   "execution_count": null,
   "id": "7fdce560",
   "metadata": {},
   "outputs": [],
   "source": []
  }
 ],
 "metadata": {
  "kernelspec": {
   "display_name": "Python 3",
   "language": "python",
   "name": "python3"
  },
  "language_info": {
   "codemirror_mode": {
    "name": "ipython",
    "version": 3
   },
   "file_extension": ".py",
   "mimetype": "text/x-python",
   "name": "python",
   "nbconvert_exporter": "python",
   "pygments_lexer": "ipython3",
   "version": "3.7.9"
  }
 },
 "nbformat": 4,
 "nbformat_minor": 5
}
